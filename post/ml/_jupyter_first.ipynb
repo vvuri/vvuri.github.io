{
 "cells": [
  {
   "cell_type": "code",
   "execution_count": 1,
   "metadata": {},
   "outputs": [
    {
     "name": "stdout",
     "output_type": "stream",
     "text": [
      "Hi, Hugo on Gitub\n"
     ]
    }
   ],
   "source": [
    "print(\"Hi, Hugo on Gitub\")"
   ]
  },
  {
   "cell_type": "code",
   "execution_count": null,
   "metadata": {},
   "outputs": [],
   "source": []
  }
 ],
 "metadata": {
  "front-matter": {
   "date": "2019-01-03",
   "subtitle": "Add Juputer print",
   "title": "Juputer Hugo"
  },
  "hugo_jupyter": {
   "render_to": "/c/blog/hugo/sites/hugoblog/content/post/ml"
  },
  "kernelspec": {
   "display_name": "Python 3",
   "language": "python",
   "name": "python3"
  },
  "language_info": {
   "codemirror_mode": {
    "name": "ipython",
    "version": 3
   },
   "file_extension": ".py",
   "mimetype": "text/x-python",
   "name": "python",
   "nbconvert_exporter": "python",
   "pygments_lexer": "ipython3",
   "version": "3.6.1"
  }
 },
 "nbformat": 4,
 "nbformat_minor": 2
}
